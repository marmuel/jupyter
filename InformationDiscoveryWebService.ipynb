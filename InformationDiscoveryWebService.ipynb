{
 "cells": [
  {
   "cell_type": "markdown",
   "metadata": {},
   "source": [
    "# Send text to Information Discovery and highlight results as HTML\n",
    "\n",
    "In this tutorial we want to show you how you can send text to the Information Discovery web service and output the result as highlighted HTML. We start with the method that converts the Json output to HTML."
   ]
  },
  {
   "cell_type": "markdown",
   "metadata": {},
   "source": [
    "### Convert Json to HTML\n",
    "\n",
    "The following method converts the Json result to HTML code. The offsets (begin and end) of an annotation are recalculated after each annotation. Multiple annotations on a text passage are supported in principle, whereby only one of them is randomly highlighted. Overlapping annotations are not supported in this approach."
   ]
  },
  {
   "cell_type": "code",
   "execution_count": 3,
   "metadata": {
    "collapsed": true
   },
   "outputs": [],
   "source": [
    "from collections import defaultdict\n",
    "from IPython.core.display import display, HTML\n",
    "import os\n",
    "import requests\n",
    "import json\n",
    "from operator import itemgetter\n",
    "\n",
    "def json2html(jData):\n",
    "    #First extract the document text from the return object. The offsets should be calculated on this object. \n",
    "    for annotation in jData['annotationDtos']:  \n",
    "        if (annotation['type'] == 'de.averbis.types.health.DocumentAnnotation'):\n",
    "            document = annotation['coveredText']\n",
    "    \n",
    "    offset = 0\n",
    "    offset_dict= {}\n",
    "    lastEnd = 0\n",
    "    lastOffset = 0\n",
    "    for annotation in sorted(jData['annotationDtos'], key=itemgetter('begin', 'end')):\n",
    "        if (annotation['type'] in annotations.keys()):\n",
    "            color = annotations[annotation['type']]\n",
    "            tooltip = ''\n",
    "            if 'conceptId' in annotation and 'dictCanon' in annotation:\n",
    "                tooltip = annotation['conceptId'] + \" \" + annotation['dictCanon']\n",
    "            spanBegin = '<span title=\"' + tooltip + '\" style=\"text-decoration: underline; text-decoration-color: ' + color + ';\">'\n",
    "            spanEnd = '</span>'\n",
    "            # negated concepts shall be striked through in the HTML output\n",
    "            if ('negatedBy' in annotation and annotation['negatedBy'] is not None):\n",
    "                spanBegin = spanBegin + '<s>'\n",
    "                spanEnd = '</s>' + spanEnd\n",
    "            begin = annotation['begin'] + offset\n",
    "            #If the current annotation is before the end of the last annotation, the begin must be adjusted.\n",
    "            if (annotation['begin'] < lastEnd):\n",
    "                begin = begin - lastEndOffset\n",
    "            end = annotation['end'] + offset\n",
    "            offset = offset + len(spanBegin) + len(spanEnd)\n",
    "            lastEnd = annotation['end']\n",
    "            lastEndOffset = len(spanEnd)\n",
    "            document = document[:begin] + spanBegin + document[begin:end] + spanEnd + document[end:]  \n",
    "    return document\n",
    "\n"
   ]
  },
  {
   "cell_type": "markdown",
   "metadata": {},
   "source": [
    "### Define the parameters and run the application\n",
    "\n",
    "Now you can set some helpful parameters.\n",
    "\n",
    " - text: here you enter the text you want to analyze.\n",
    " - project: this is the name of the Information Discovery project\n",
    " - pipeline: The name of the pipeline in Information Discovery\n",
    " - language: the language of the text\n",
    " - url: the URL of the Information Discovery. In my example I send it to the Health Discovery demo server\n",
    " - annotations: The annotations dictionary defines as key the type your want to get highlighted, as value the color in the highlighting should be done. In our example we want to highlight diagnoses, medications and lab values. \n",
    " \n",
    "An overview of all types that Information Discovery can extract can be found in the documentation at https://averbis.com/support\n",
    "\n"
   ]
  },
  {
   "cell_type": "code",
   "execution_count": 8,
   "metadata": {},
   "outputs": [
    {
     "data": {
      "text/html": [
       "<h2>The patient had a <span title=\"J00 Acute nasopharyngitis [common cold]\" style=\"text-decoration: underline; text-decoration-color: orange;\">cold</span> and a <span title=\"R51 Headache\" style=\"text-decoration: underline; text-decoration-color: orange;\">headache</span>, but no <span title=\"R50.9 Fever, unspecified\" style=\"text-decoration: underline; text-decoration-color: orange;\"><s>fever</s></span>. He was on <span title=\"\" style=\"text-decoration: underline; text-decoration-color: limegreen;\">Aspirin</span>.</h2>"
      ],
      "text/plain": [
       "<IPython.core.display.HTML object>"
      ]
     },
     "metadata": {},
     "output_type": "display_data"
    }
   ],
   "source": [
    "txt= \"The patient had a cold and a headache, but no fever. He was on Aspirin.\"\n",
    "\n",
    "project = \"default\"\n",
    "pipeline = \"discharge\"\n",
    "language = \"en\"\n",
    "url = 'https://health-discovery.averbis.com/demo/rest/textanalysis/projects/' + project + '/pipelines/' + pipeline + '/analyseText?language=' + language\n",
    "annotations = {'de.averbis.types.health.Diagnosis' : 'orange', \n",
    "               'de.averbis.types.health.Medication': 'limegreen',\n",
    "               'de.averbis.types.health.LaboratoryValue': 'LightSkyBlue'}\n",
    "\n",
    "#All we have to do now is send the text to Information Discovery. Then we convert the Json to HTML and output it here.\n",
    "headers = {'Content-type': 'text/plain; charset=utf-8'}\n",
    "myResponse = requests.post(url, data=txt.encode('utf-8'), headers=headers)\n",
    "if (myResponse.ok):\n",
    "    jData = json.loads(myResponse.content)\n",
    "    display(HTML('<h2>' + json2html(jData) + '</h2>'))"
   ]
  }
 ],
 "metadata": {
  "kernelspec": {
   "display_name": "Python 3",
   "language": "python",
   "name": "python3"
  },
  "language_info": {
   "codemirror_mode": {
    "name": "ipython",
    "version": 3
   },
   "file_extension": ".py",
   "mimetype": "text/x-python",
   "name": "python",
   "nbconvert_exporter": "python",
   "pygments_lexer": "ipython3",
   "version": "3.6.6"
  }
 },
 "nbformat": 4,
 "nbformat_minor": 2
}
